{
  "cells": [
    {
      "cell_type": "markdown",
      "metadata": {
        "id": "view-in-github",
        "colab_type": "text"
      },
      "source": [
        "<a href=\"https://colab.research.google.com/github/GuillermoGodoyPro/Tiltea2/blob/master/Guia_7_CSV_y_JSON.ipynb\" target=\"_parent\"><img src=\"https://colab.research.google.com/assets/colab-badge.svg\" alt=\"Open In Colab\"/></a>"
      ]
    },
    {
      "cell_type": "markdown",
      "metadata": {
        "id": "IC6M96nFEn-X"
      },
      "source": [
        "#### Universidad Nacional de Tres de Febrero\n",
        "\n",
        "### Estructuras de Datos\n",
        "\n",
        "## Guía de ejercicios 7 - CSV y JSON"
      ]
    },
    {
      "cell_type": "markdown",
      "metadata": {
        "id": "r0MSXnRb4H2y"
      },
      "source": [
        "En esta guía de ejercicios vamos a trabajar con los datasets de ciencia y tecnología de Argentina, publicados en:\n",
        "\n",
        "- https://datasets.datos.mincyt.gob.ar/dataset\n",
        "\n",
        "Estos datasets están publicados en formato CSV y JSON.\n",
        "\n",
        "Por ejemplo en https://datasets.datos.mincyt.gob.ar/dataset/instituciones-del-sistema-nacional-de-ciencia-y-tecnologia-argentino encontramos los siguientes archivos:\n",
        "\n",
        "- **`organizaciones`**: Organizaciones vinculadas con actividades científico tecnológicas o bien en las que se desarrollan actividades de I+D y/o innovación.\n",
        "- **`organizaciones_dependencia_conjunta`**: Niveles organizacionales (institutos, centros y otros), en los que se desarrolla alguna actividad científico tecnológica, que dependen de dos o más organizaciones.\n",
        "- **`organizaciones_localizacion`**: Datos sobre la localización geográfica de las organizaciones\n",
        "- **`organizaciones_actividad_economica`**: Datos sobre la actividad económica que desarrollan las organizaciones\n",
        "- **`ref_TIPO_INSTITUCION`**: Tabla de referencia para el campo tipo institución\n",
        "- **`ref_TIPO_ENTIDAD_PRIVADA`**: Tabla de referencia para el campo tipo de entidad privada.\n",
        "- **`ref_ESTADO_ORGANIZACION`**: Tabla de referencia para el campo estado organización.\n",
        "- **`ref_ACTIVIDAD_ECONOMICA`**: Tabla de referencia para actividad económica."
      ]
    },
    {
      "cell_type": "code",
      "source": [],
      "metadata": {
        "id": "1hdM0OMv1L-U"
      },
      "execution_count": null,
      "outputs": []
    },
    {
      "cell_type": "code",
      "source": [],
      "metadata": {
        "id": "J5VLsvUF1MP5"
      },
      "execution_count": null,
      "outputs": []
    },
    {
      "cell_type": "markdown",
      "metadata": {
        "id": "Bs7l83-TEn-f"
      },
      "source": [
        "# Ejercicios\n",
        "\n",
        "Resolver los siguientes ejercicios, utilizando los archivos CSV y JSON."
      ]
    },
    {
      "cell_type": "markdown",
      "metadata": {
        "id": "it8cCtamEn-h",
        "jp-MarkdownHeadingCollapsed": true
      },
      "source": [
        "## Ejercicio 1\n",
        "\n",
        "Listar por pantalla el nombre de todas las instituciones localizadas en la localidad de Caseros (id=114), partido de Tres de Febrero (id=224).\n",
        "\n",
        "archivos: **`organizaciones`** y **`organizaciones_localizacion`**"
      ]
    },
    {
      "cell_type": "code",
      "execution_count": null,
      "metadata": {
        "id": "TZmae95wEn-i"
      },
      "outputs": [],
      "source": []
    },
    {
      "cell_type": "markdown",
      "metadata": {
        "id": "jhSc76rqEn-l",
        "jp-MarkdownHeadingCollapsed": true
      },
      "source": [
        "## Ejercicio 2\n",
        "\n",
        "Del listado anterior listar solamente las que son Empresas.\n",
        "\n",
        "archivos: **`organizaciones`**, **`organizaciones_localizacion`** y **`ref_TIPO_INSTITUCION`:**"
      ]
    },
    {
      "cell_type": "code",
      "execution_count": null,
      "metadata": {
        "id": "tS6c8li6En-m"
      },
      "outputs": [],
      "source": []
    },
    {
      "cell_type": "markdown",
      "metadata": {
        "id": "kM0a1vaAEn-n",
        "jp-MarkdownHeadingCollapsed": true
      },
      "source": [
        "## Ejercicio 3\n",
        "\n",
        "Listar las actividades económicas de las instituciones del partido de Tres de Febrero, indicando cuantas instituciones se dedican a dicha actividad.\n",
        "\n",
        "archivos: **`organizaciones`**,  **`organizaciones_actividad_economica`:** y **`ref_ACTIVIDAD_ECONOMICA`:**"
      ]
    },
    {
      "cell_type": "code",
      "execution_count": null,
      "metadata": {
        "id": "wgsV0vboEn-n"
      },
      "outputs": [],
      "source": []
    },
    {
      "cell_type": "markdown",
      "metadata": {
        "id": "To3i4ZGZEn-o",
        "jp-MarkdownHeadingCollapsed": true
      },
      "source": [
        "## Ejercicio 4\n",
        "\n",
        "Listar todas las organizaciones que tienen algún tipo de dependencia de la Universidad de Buenos Aires\n",
        "\n",
        "Archivos: **`organizaciones`** y  **`organizaciones_dependencia_conjunta`**:"
      ]
    },
    {
      "cell_type": "code",
      "execution_count": null,
      "metadata": {
        "id": "_k0HjPx9En-p"
      },
      "outputs": [],
      "source": []
    }
  ],
  "metadata": {
    "colab": {
      "provenance": [],
      "include_colab_link": true
    },
    "kernelspec": {
      "display_name": "Python 3 (ipykernel)",
      "language": "python",
      "name": "python3"
    },
    "language_info": {
      "codemirror_mode": {
        "name": "ipython",
        "version": 3
      },
      "file_extension": ".py",
      "mimetype": "text/x-python",
      "name": "python",
      "nbconvert_exporter": "python",
      "pygments_lexer": "ipython3",
      "version": "3.11.4"
    }
  },
  "nbformat": 4,
  "nbformat_minor": 0
}